{
 "cells": [
  {
   "cell_type": "markdown",
   "metadata": {},
   "source": [
    "# 4. Data Structures\n",
    "by Marcel Siegmann, 2020"
   ]
  },
  {
   "cell_type": "markdown",
   "metadata": {},
   "source": [
    "* [Lists and Arrays](#array)\n",
    "* [Linked List](#linked_list)\n",
    "* [Stacks](#stacks)\n",
    "* [Queues](#queues)\n",
    "* [Hash Tables](#hash_tables)\n",
    "* [Trees](#trees)\n",
    "* [References](#references)"
   ]
  },
  {
   "cell_type": "markdown",
   "metadata": {},
   "source": [
    "## Lists and Arrays\n",
    "<div id=\"array\"/>\n",
    "\n",
    "#### Introduction\n",
    "Arrays are the most common implementation of lists. It is a core feature in many programming languages.\n",
    "An array is a container of items in some order. Depending on the programming language Arrays have a fixed size of items and mostly contain only one data type, but this is not the general case. \n",
    "\n",
    "The main point of an array is that is has an index for every item in the array. Due to that items can be accessed with O(1).\n",
    "\n",
    "#### Functionality\n",
    "In python the implementation of arrays is not 100 % clear. Python does not have built-in support for Arrays, but Python Lists can be used instead.\n",
    "\n",
    "* List: [1,2,3]\n",
    "* Tuple: (1,2,3)\n",
    "* String: '123'"
   ]
  },
  {
   "cell_type": "code",
   "execution_count": 1,
   "metadata": {},
   "outputs": [
    {
     "name": "stdout",
     "output_type": "stream",
     "text": [
      "2\n",
      "2\n",
      "2\n"
     ]
    }
   ],
   "source": [
    "_list = [1,2,3]\n",
    "_tuple = (1,2,3)\n",
    "_string = \"123\"\n",
    "\n",
    "print(_list[1])\n",
    "print(_tuple[1])\n",
    "print(_string[1])"
   ]
  },
  {
   "cell_type": "markdown",
   "metadata": {},
   "source": [
    "#### Time Complexities worst case\n",
    "    * Access: O(1)\n",
    "    * Search: O(n)\n",
    "    * Insertion O(n)\n",
    "    * Deletion O(n)\n",
    "\n",
    "#### Strength and limitations\n",
    "* Strength:\n",
    "    * Space efficient\n",
    "    * Fast access by index\n",
    "* Limitations\n",
    "    * Adding and removing elements is slow\n",
    "\n",
    "\n",
    "#### Real World Example\n",
    "Lists and arrays are the basis of every language. Thus they are used quite frequently. If you have a problem where you want to get an item from the middle, an array is a good choiche, because you can reach it easily by index with O(1)"
   ]
  },
  {
   "attachments": {
    "aff591ed-74bb-4ab0-bc49-d725acd7dc4a.png": {
     "image/png": "[encoded data removed]"
    }
   },
   "cell_type": "markdown",
   "metadata": {},
   "source": [
    "## Linked Lists\n",
    "<div id=\"linked_list\"/>\n",
    "\n",
    "#### Introduction\n",
    "A linked list is an extension of a list, but it has nothing in common with an array. A linked list is characterized by its links. Each element has some notion which element the next element is, but no information about the length of the list or where each element is.\n",
    "\n",
    "![image.png](attachment:aff591ed-74bb-4ab0-bc49-d725acd7dc4a.png)\n",
    "#### Functionality\n",
    "In python a linked list is not a core feature. It can be easily represented by objects:"
   ]
  },
  {
   "cell_type": "code",
   "execution_count": 2,
   "metadata": {},
   "outputs": [
    {
     "name": "stdout",
     "output_type": "stream",
     "text": [
      "3\n",
      "3\n",
      "4\n",
      "2\n",
      "4\n",
      "3\n"
     ]
    }
   ],
   "source": [
    "class Element(object):\n",
    "    def __init__(self, value):\n",
    "        self.value = value\n",
    "        self.next = None\n",
    "\n",
    "\n",
    "class LinkedList(object):\n",
    "    def __init__(self, head=None):\n",
    "        self.head = head\n",
    "\n",
    "    def append(self, new_element):\n",
    "        current = self.head\n",
    "        if self.head:\n",
    "            while current.next:\n",
    "                current = current.next\n",
    "            current.next = new_element\n",
    "        else:\n",
    "            self.head = new_element\n",
    "\n",
    "    def get_position(self, position):\n",
    "        \"\"\"Get an element from a particular position.\n",
    "        Assume the first position is \"1\".\n",
    "        Return \"None\" if position is not in the list.\"\"\"\n",
    "        current = self.head\n",
    "        for i in range(1, position+1):\n",
    "            if i == position:\n",
    "                return current\n",
    "            if current.next:\n",
    "                current = current.next\n",
    "        return None\n",
    "\n",
    "    def insert(self, new_element, position):\n",
    "        \"\"\"Insert a new node at the given position.\n",
    "        Assume the first position is \"1\".\n",
    "        Inserting at position 3 means between\n",
    "        the 2nd and 3rd elements.\"\"\"\n",
    "        current = self.head\n",
    "        for i in range(1, position + 1):\n",
    "            if i == position-1:\n",
    "                new_element.next = current.next\n",
    "                current.next = new_element\n",
    "            if current.next:\n",
    "                current = current.next\n",
    "        return None\n",
    "\n",
    "    def delete(self, value):\n",
    "        \"\"\"Delete the first node with a given value.\"\"\"\n",
    "        current = self.head\n",
    "        while current.next:\n",
    "            if current.value == value:\n",
    "                self.head = current.next\n",
    "                return True\n",
    "\n",
    "        return None\n",
    "\n",
    "\n",
    "# Test cases\n",
    "# Set up some Elements\n",
    "e1 = Element(1)\n",
    "e2 = Element(2)\n",
    "e3 = Element(3)\n",
    "e4 = Element(4)\n",
    "\n",
    "# Start setting up a LinkedList\n",
    "ll = LinkedList(e1)\n",
    "ll.append(e2)\n",
    "ll.append(e3)\n",
    "\n",
    "# Test get_position\n",
    "# Should print 3\n",
    "print(ll.head.next.next.value)\n",
    "# Should also print 3\n",
    "print(ll.get_position(3).value)\n",
    "\n",
    "# Test insert\n",
    "ll.insert(e4, 3)\n",
    "# Should print 4 now\n",
    "print(ll.get_position(3).value)\n",
    "\n",
    "# Test delete\n",
    "ll.delete(1)\n",
    "# Should print 2 now\n",
    "print(ll.get_position(1).value)\n",
    "# Should print 4 now\n",
    "print(ll.get_position(2).value)\n",
    "# Should print 3 now\n",
    "print(ll.get_position(3).value)"
   ]
  },
  {
   "cell_type": "markdown",
   "metadata": {},
   "source": [
    "#### Time Complexities average / worst case\n",
    "    * Access:      O(n) / O(n)\n",
    "    * Search:      O(n) / O(n)\n",
    "    * Insertion:   O(1) / O(1)\n",
    "    * Deletion:    O(1) / O(1)\n",
    "\n",
    "#### Strength and limitations\n",
    "* Strength:\n",
    "    * Fast insertion\n",
    "    * fast deletion\n",
    "* Limitations\n",
    "    * Searching is slow, because you just have the reference to the next element or in double linked-list to the previous and next element\n",
    "\n",
    "\n",
    "#### Real World Example\n",
    "* Implementation of stacks and queues\n",
    "* Dynamic memory allocation : We use linked list of free blocks\n",
    "* Maintaining directory of names"
   ]
  },
  {
   "cell_type": "markdown",
   "metadata": {},
   "source": [
    "## Stacks\n",
    "<div id=\"stacks\"/>\n",
    "\n",
    "#### Introduction\n",
    "Stacks are also list-based data structures. You can compare a stack to a stack of objects in real life. You keep putting elements on top and you have easy access to remove or look at the top element. They can be really useful when you only care about the most recent elements or the order in which you see and save elements actually matters.\n",
    "Stack is a linear data structure which follows a particular order in which the operations are performed. The order may be LIFO(Last In First Out) or FILO(First In Last Out)\n",
    "\n",
    "#### Functionality"
   ]
  },
  {
   "cell_type": "code",
   "execution_count": 3,
   "metadata": {},
   "outputs": [
    {
     "name": "stdout",
     "output_type": "stream",
     "text": [
      "3\n",
      "2\n",
      "1\n",
      "None\n",
      "4\n"
     ]
    }
   ],
   "source": [
    "class LinkedList(object):\n",
    "    def __init__(self, head=None):\n",
    "        self.head = head\n",
    "\n",
    "    def append(self, new_element):\n",
    "        current = self.head\n",
    "        if self.head:\n",
    "            while current.next:\n",
    "                current = current.next\n",
    "            current.next = new_element\n",
    "        else:\n",
    "            self.head = new_element\n",
    "\n",
    "    def insert_first(self, new_element):\n",
    "        \"Insert new element as the head of the LinkedList\"\n",
    "        new_element.next = self.head\n",
    "        self.head = new_element\n",
    "\n",
    "    def delete_first(self):\n",
    "        element_to_remove = None\n",
    "        if self.head is not None:\n",
    "            element_to_remove = self.head\n",
    "            self.head = self.head.next\n",
    "        return element_to_remove\n",
    "    \n",
    "class Stack(object):\n",
    "    def __init__(self, top=None):\n",
    "        self.ll = LinkedList(top)\n",
    "\n",
    "    def push(self, new_element):\n",
    "        \"Push (add) a new element onto the top of the stack\"\n",
    "        self.ll.insert_first(new_element)\n",
    "\n",
    "    def pop(self):\n",
    "        \"Pop (remove) the first element off the top of the stack and return it\"\n",
    "        return self.ll.delete_first()\n",
    "\n",
    "# Test cases\n",
    "# Set up some Elements\n",
    "e1 = Element(1)\n",
    "e2 = Element(2)\n",
    "e3 = Element(3)\n",
    "e4 = Element(4)\n",
    "\n",
    "# Start setting up a Stack\n",
    "stack = Stack(e1)\n",
    "\n",
    "# Test stack functionality\n",
    "stack.push(e2)\n",
    "stack.push(e3)\n",
    "print(stack.pop().value)\n",
    "print(stack.pop().value)\n",
    "print(stack.pop().value)\n",
    "print(stack.pop())\n",
    "stack.push(e4)\n",
    "print(stack.pop().value)"
   ]
  },
  {
   "cell_type": "markdown",
   "metadata": {},
   "source": [
    "#### Time Complexities average / worst case\n",
    "    * Access:      O(n) / O(n)\n",
    "    * Search:      O(n) / O(n)\n",
    "    * Insertion:   O(1) / O(1)\n",
    "    * Deletion:    O(1) / O(1)\n",
    "\n",
    "#### Strength and limitations\n",
    "* Useful when you need the most recent element\n",
    "\n",
    "#### Real World Example\n",
    "* Newsfeed"
   ]
  },
  {
   "cell_type": "markdown",
   "metadata": {},
   "source": [
    "## Queues\n",
    "<div id=\"queues\"/>\n",
    "\n",
    "#### Introduction\n",
    "A queue is kind of the opposite of a stack. It is based on the principle First In, First Out. References to head and tail are saved, that they can be looked up in constant time.\n",
    "\n",
    "#### Functionality"
   ]
  },
  {
   "cell_type": "code",
   "execution_count": 4,
   "metadata": {},
   "outputs": [
    {
     "name": "stdout",
     "output_type": "stream",
     "text": [
      "1\n",
      "1\n",
      "2\n",
      "3\n",
      "4\n",
      "5\n"
     ]
    }
   ],
   "source": [
    "class Queue:\n",
    "    def __init__(self, head=None):\n",
    "        self.storage = [head]\n",
    "\n",
    "    def enqueue(self, new_element):\n",
    "        self.storage.append(new_element)\n",
    "\n",
    "    def peek(self):\n",
    "        return self.storage[0]\n",
    "\n",
    "    def dequeue(self):\n",
    "        return self.storage.pop(0)\n",
    "\n",
    "\n",
    "# Setup\n",
    "q = Queue(1)\n",
    "q.enqueue(2)\n",
    "q.enqueue(3)\n",
    "\n",
    "# Test peek\n",
    "# Should be 1\n",
    "print(q.peek())\n",
    "\n",
    "# Test dequeue\n",
    "# Should be 1\n",
    "print(q.dequeue())\n",
    "\n",
    "# Test enqueue\n",
    "q.enqueue(4)\n",
    "# Should be 2\n",
    "print(q.dequeue())\n",
    "\n",
    "# Should be 3\n",
    "print(q.dequeue())\n",
    "# Should be 4\n",
    "print(q.dequeue())\n",
    "q.enqueue(5)\n",
    "# Should be 5\n",
    "print(q.peek())"
   ]
  },
  {
   "cell_type": "code",
   "execution_count": 5,
   "metadata": {},
   "outputs": [],
   "source": [
    "# Alternative\n",
    "from collections import deque\n",
    "\n",
    "d = deque([1, 2, 3, 4, 5])\n",
    "d.append(6)"
   ]
  },
  {
   "cell_type": "code",
   "execution_count": 6,
   "metadata": {},
   "outputs": [
    {
     "data": {
      "text/plain": [
       "1"
      ]
     },
     "execution_count": 6,
     "metadata": {},
     "output_type": "execute_result"
    }
   ],
   "source": [
    "d.popleft()"
   ]
  },
  {
   "cell_type": "code",
   "execution_count": 7,
   "metadata": {},
   "outputs": [
    {
     "data": {
      "text/plain": [
       "6"
      ]
     },
     "execution_count": 7,
     "metadata": {},
     "output_type": "execute_result"
    }
   ],
   "source": [
    "d.pop()"
   ]
  },
  {
   "cell_type": "markdown",
   "metadata": {},
   "source": [
    "#### Time Complexities average / worst case\n",
    "    * Access:      O(n) / O(n)\n",
    "    * Search:      O(n) / O(n)\n",
    "    * Insertion:   O(1) / O(1)\n",
    "    * Deletion:    O(1) / O(1)\n",
    "\n",
    "#### Strength and limitations\n",
    "* Useful for all sorts propblems where the order matters and you are interested in the first or last element\n",
    "\n",
    "#### Real World Example\n",
    "* Process orders in a webshop. \n",
    "* Email Notification when signing up\n"
   ]
  },
  {
   "cell_type": "markdown",
   "metadata": {},
   "source": [
    "## Hash Tables\n",
    "<div id=\"queues\"/>\n",
    "\n",
    "#### Introduction\n",
    "A __Hash Table__ is a data structure that stores data by an association between keys and values. In Python the implementation of a hash table is the dictionary. Hash tables are implementations of associative arrays. Due to how the values are mapped to keys, it is very easy and quick to retrieve data from a dictionary.\n",
    "\n",
    "#### Functionality"
   ]
  },
  {
   "cell_type": "code",
   "execution_count": 8,
   "metadata": {},
   "outputs": [
    {
     "name": "stdout",
     "output_type": "stream",
     "text": [
      "8568\n",
      "-1\n",
      "8568\n",
      "8568\n"
     ]
    }
   ],
   "source": [
    "# Core functionality Dict\n",
    "d = {\"test\": 2, \"neu\": 3,\"hello\": 4}\n",
    "d[\"test\"]\n",
    "\n",
    "# Own implementation\n",
    "class HashTable(object):\n",
    "    def __init__(self):\n",
    "        self.table = [None] * 10000\n",
    "\n",
    "    def store(self, string):\n",
    "        hv = self.calculate_hash_value(string)\n",
    "        if hv != -1:\n",
    "            if self.table[hv] is not None:\n",
    "                self.table[hv].append(string)\n",
    "            else:\n",
    "                self.table[hv] = [string]\n",
    "\n",
    "    def lookup(self, string):\n",
    "        hv = self.calculate_hash_value(string)\n",
    "        if hv != -1:\n",
    "            if self.table[hv] != None:\n",
    "                if string in self.table[hv]:\n",
    "                    return hv\n",
    "        return -1\n",
    "\n",
    "    def calculate_hash_value(self, string):\n",
    "        return ord(string[0])*100 + ord(string[1])\n",
    "\n",
    "\n",
    "# Setup\n",
    "hash_table = HashTable()\n",
    "\n",
    "# Test calculate_hash_value\n",
    "# Should be 8568\n",
    "print(hash_table.calculate_hash_value('UDACITY'))\n",
    "\n",
    "# Test lookup edge case\n",
    "# Should be -1\n",
    "print(hash_table.lookup('UDACITY'))\n",
    "\n",
    "# Test store\n",
    "hash_table.store('UDACITY')\n",
    "# Should be 8568\n",
    "print(hash_table.lookup('UDACITY'))\n",
    "\n",
    "# Test store edge case\n",
    "hash_table.store('UDACIOUS')\n",
    "# Should be 8568\n",
    "print(hash_table.lookup('UDACIOUS'))"
   ]
  },
  {
   "cell_type": "markdown",
   "metadata": {},
   "source": [
    "#### Time Complexities average / worst case\n",
    "    * Access:      n/a / n/a\n",
    "    * Search:      O(1) / O(n)\n",
    "    * Insertion:   O(1) / O(n)\n",
    "    * Deletion:    O(1) / O(n)\n",
    "\n",
    "#### Strength and limitations\n",
    "* strength\n",
    "    * Main advantage is synchronization\n",
    "    * Hash tables are a convenient way to implement the mechanism that connects a variable's name to its memory location.\n",
    "* limitations\n",
    "    * Hash collisions are practically unavoidable. when hashing a random subset of a large set of possible keys\n",
    "    * Hash tables become quite inefficient when there are many collisions\n",
    "\n",
    "#### Real World Example\n",
    "* Hashing is useful for indexing large storage spaces, so that you can look things up in them without reading their entire contents every time.\n",
    "* Check if an ticket is valid by its ticket number "
   ]
  },
  {
   "cell_type": "markdown",
   "metadata": {},
   "source": [
    "## Trees\n",
    "<div id=\"trees\"/>\n",
    "\n",
    "#### Introduction\n",
    "A tree is an extension of a linked list. The first element, called the root, can have several next elements. Just like a linked list, each element on a tree contains some data. The individual elements in a tree are often called nodes. The nodes in a tree always needs to be connected. Unlike Array and Linked List, which are linear data structures, tree is hierarchical (or non-linear) data structure\n",
    "\n",
    "#### Functionality \n",
    "The following code shows an implementation of a Binary Tree:"
   ]
  },
  {
   "cell_type": "code",
   "execution_count": 9,
   "metadata": {},
   "outputs": [
    {
     "name": "stdout",
     "output_type": "stream",
     "text": [
      "True\n",
      "False\n",
      "1-2-4-5-3\n"
     ]
    }
   ],
   "source": [
    "class Node(object):\n",
    "    def __init__(self, value):\n",
    "        self.value = value\n",
    "        self.left = None\n",
    "        self.right = None\n",
    "\n",
    "\n",
    "class BinaryTree(object):\n",
    "    def __init__(self, root):\n",
    "        self.root = Node(root)\n",
    "\n",
    "    def search(self, find_val):\n",
    "        \"\"\"Return True if the value\n",
    "        is in the tree, return\n",
    "        False otherwise.\"\"\"\n",
    "        return self.preorder_search(self.root, find_val)\n",
    "\n",
    "    def print_tree(self):\n",
    "        \"\"\"Print out all tree nodes\n",
    "        as they are visited in\n",
    "        a pre-order traversal.\"\"\"\n",
    "        traversal = f\"{self.root.value}\"\n",
    "        return self.preorder_print(self.root, traversal)\n",
    "\n",
    "    def preorder_search(self, start, find_val):\n",
    "        if start.left is None:\n",
    "            return False\n",
    "        elif start.left.value == find_val:\n",
    "            return True\n",
    "\n",
    "        if start.left is None:\n",
    "            return False\n",
    "        elif start.right.value == find_val:\n",
    "            return True\n",
    "\n",
    "        if self.preorder_search(start.left, find_val):\n",
    "            return True\n",
    "        if self.preorder_search(start.right, find_val):\n",
    "            return True\n",
    "\n",
    "        return False\n",
    "\n",
    "    def preorder_print(self, start, traversal):\n",
    "        \"\"\"Helper method - use this to create a\n",
    "        recursive print solution.\"\"\"\n",
    "        if start.left is None:\n",
    "            pass\n",
    "        elif start.left.value:\n",
    "            traversal += f\"-{start.left.value}\"\n",
    "            traversal = self.preorder_print(start.left, traversal)\n",
    "\n",
    "        if start.right is None:\n",
    "            return traversal\n",
    "        elif start.right.value:\n",
    "            traversal += f\"-{start.right.value}\"\n",
    "            traversal = self.preorder_print(start.right, traversal)\n",
    "\n",
    "        return traversal\n",
    "\n",
    "\n",
    "\n",
    "# Set up tree\n",
    "tree = BinaryTree(1)\n",
    "tree.root.left = Node(2)\n",
    "tree.root.right = Node(3)\n",
    "tree.root.left.left = Node(4)\n",
    "tree.root.left.right = Node(5)\n",
    "\n",
    "# Test search\n",
    "# Should be True\n",
    "print(tree.search(4))\n",
    "# Should be False\n",
    "print(tree.search(6))\n",
    "\n",
    "# Test print_tree\n",
    "# Should be 1-2-4-5-3\n",
    "print(tree.print_tree())"
   ]
  },
  {
   "cell_type": "markdown",
   "metadata": {},
   "source": [
    "#### Time Complexities worst case tree structure in general\n",
    "    * Access:      O(n)\n",
    "    * Search:      O(n)\n",
    "    * Insertion:   O(n)\n",
    "    * Deletion:    O(n)\n",
    "\n",
    "#### Time Complexities average / worst case binary search tree\n",
    "    * Access:      O(log n) / O(n)\n",
    "    * Search:      O(log n) / O(n)\n",
    "    * Insertion:   O(log n) / O(n)\n",
    "    * Deletion:    O(log n) / O(n)\n",
    "\n",
    "#### Strength and limitations\n",
    "* strength\n",
    "    * store information that naturally forms a hierarchy\n",
    "    * Depending on the implementation of your tree structure e.g binary tree search allows fast search, insert, delete on sorted data\n",
    "  \n",
    "* limitations\n",
    "    * The main disadvantage is that we should always implement a balanced binary search tree - AVL tree, Red-Black tree, Splay tree. Otherwise the cost of operations may not be logarithmic and degenerate into a linear search on an array\n",
    "\n",
    "#### Real World Example\n",
    "* Store hierarchical data, like folder structure\n",
    "* Database indexing is using a B-tree"
   ]
  },
  {
   "cell_type": "markdown",
   "metadata": {},
   "source": [
    "__References__\n",
    "<div id=\"references\"></div>\n",
    "\n",
    "* [Udacity Course](https://classroom.udacity.com/courses/ud513/lessons)\n",
    "\n",
    "* https://www.geeksforgeeks.org/data-structures/\n",
    "\n",
    "* https://www.tutorialspoint.com/data_structures_algorithms/index.htm"
   ]
  }
 ],
 "metadata": {
  "kernelspec": {
   "display_name": "Python 3",
   "language": "python",
   "name": "python3"
  },
  "language_info": {
   "codemirror_mode": {
    "name": "ipython",
    "version": 3
   },
   "file_extension": ".py",
   "mimetype": "text/x-python",
   "name": "python",
   "nbconvert_exporter": "python",
   "pygments_lexer": "ipython3",
   "version": "3.6.12"
  }
 },
 "nbformat": 4,
 "nbformat_minor": 4
}
