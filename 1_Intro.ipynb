{
 "cells": [
  {
   "cell_type": "markdown",
   "metadata": {},
   "source": [
    "# Algorithms and Data Structures\n",
    "by Marcel Siegmann, 2020\n",
    "## Intro"
   ]
  },
  {
   "cell_type": "markdown",
   "metadata": {},
   "source": [
    "In computer science there are different ways of solving a problem, for example sorting items in an array. Different algorithms have pros and cons regarding the time and resources efficiency (also called complexity). In this context an algorithm can be described as procedure or a formula to solve a particular problem. The main question is, how we decide which algorithm we should use, when there are multiple solutions to the problem?\n",
    "\n",
    "In the following example we created two algorithms to calculate the factorial of a number.\n",
    "Let's have a look at the two examples and find out which is faster: "
   ]
  },
  {
   "cell_type": "code",
   "execution_count": 35,
   "metadata": {},
   "outputs": [
    {
     "name": "stdout",
     "output_type": "stream",
     "text": [
      "120\n"
     ]
    }
   ],
   "source": [
    "def fact(n: int) -> int:\n",
    "    product = 1\n",
    "    for i in range(n):\n",
    "        product = product * (i+1)\n",
    "    return product\n",
    "\n",
    "print (fact(5))"
   ]
  },
  {
   "cell_type": "markdown",
   "metadata": {},
   "source": [
    "The algorithm takes an integer as input. Inside the function \"product\" is initialized to 1. Then a loop runs over a range from 1 to n and the product is multiplied by the number being iterated."
   ]
  },
  {
   "cell_type": "code",
   "execution_count": 36,
   "metadata": {},
   "outputs": [
    {
     "name": "stdout",
     "output_type": "stream",
     "text": [
      "120\n"
     ]
    }
   ],
   "source": [
    "def fact2(n: int) -> int:\n",
    "    if n == 0:\n",
    "        return 1\n",
    "    else: \n",
    "        return n * fact2(n-1)\n",
    "\n",
    "print (fact2(5))"
   ]
  },
  {
   "cell_type": "markdown",
   "metadata": {},
   "source": [
    "The second function uses a recursive function to calculate the factorial. Both functions produce exactly the same result.\n",
    "\n",
    "To decide which of these algorithms is faster we will measure the runtime with one of the build-in magic commands of juypter:"
   ]
  },
  {
   "cell_type": "code",
   "execution_count": 37,
   "metadata": {},
   "outputs": [
    {
     "name": "stdout",
     "output_type": "stream",
     "text": [
      "Function 'fact':\n",
      "2.83 µs ± 73.9 ns per loop (mean ± std. dev. of 7 runs, 100000 loops each)\n",
      "Function 'fact2':\n",
      "4.96 µs ± 23.1 ns per loop (mean ± std. dev. of 7 runs, 100000 loops each)\n"
     ]
    }
   ],
   "source": [
    "print(\"Function 'fact':\")\n",
    "%timeit fact(50)\n",
    "print(\"Function 'fact2':\")\n",
    "%timeit fact2(50)"
   ]
  },
  {
   "cell_type": "code",
   "execution_count": 40,
   "metadata": {},
   "outputs": [
    {
     "name": "stdout",
     "output_type": "stream",
     "text": [
      "Function 'fact' is 0.46153846153846156% faster than 'fact2'\n"
     ]
    }
   ],
   "source": [
    "result1 = 2.66\n",
    "result2 = 4.94\n",
    "print(f\"Function 'fact' is {(result2-result1)/result2}% faster than 'fact2'\")"
   ]
  },
  {
   "cell_type": "markdown",
   "metadata": {},
   "source": [
    "<br>You can see, that the function 'fact' is ~46% faster than 'func2' involving recursion. Thus, this comparison is a good example, that algorithm analysis is important. Depending on the size of the input, the performance difference can become more significant.\n",
    "\n",
    "The execution time is quite handy to get a fast idea which algorithm is faster, but in general the execution time is not a good metric to measure the complexity of an algorith, because it depends upon the hardware. Therefor we will use a more objective complexity analysis.\n",
    "\n",
    "We can describe efficiency of code with something called <b>Big O notation</b>."
   ]
  },
  {
   "cell_type": "markdown",
   "metadata": {},
   "source": [
    "\\begin{align}\n",
    "O(n)\n",
    "\\end{align}"
   ]
  },
  {
   "cell_type": "markdown",
   "metadata": {},
   "source": [
    "The Big O notation consists of <b>O</b> and an algebraic expression inside the parantheses. The algebraic expression is always going to be a mathematical function of the variable <b>n</b>. <b>n</b> represents the length of an input to your function. The result of the big O notation represent the steps which are needed to go through the function.\n",
    "\n",
    "To get a sense of the time efficiency we can count up the lines for our two functions:\n",
    "- In our function 'fact' we have to define the product, create a range of n and return the product, each only need to happen once every time the function run. The line inside the loop has to run for the range 1 to n. We can represent the function with the following big O notation:"
   ]
  },
  {
   "cell_type": "markdown",
   "metadata": {},
   "source": [
    "\\begin{align}\n",
    "O(n+3)\n",
    "\\end{align}"
   ]
  },
  {
   "cell_type": "markdown",
   "metadata": {},
   "source": [
    "- As our function 'fact2' is recursive, we have to check for each element between 0 and n if the number is 0 and need to do the calculation. We can represent the function with the following big O notation:"
   ]
  },
  {
   "cell_type": "markdown",
   "metadata": {},
   "source": [
    "\\begin{align}\n",
    "O(2n)\n",
    "\\end{align}"
   ]
  },
  {
   "cell_type": "markdown",
   "metadata": {},
   "source": [
    "Please be aware that this is an estimation of the steps. Especially in high level languages like python it is often not clear how many steps are involved in in-build functions like range. Nevertheless the estimation seems to fit quite well:"
   ]
  },
  {
   "cell_type": "code",
   "execution_count": 41,
   "metadata": {},
   "outputs": [
    {
     "name": "stdout",
     "output_type": "stream",
     "text": [
      "Function 'fact' is 0.47% faster in terms of steps than 'fact2'\n"
     ]
    }
   ],
   "source": [
    "n = 50\n",
    "result1_steps = n+3\n",
    "result2_steps = 2*n\n",
    "print(f\"Function 'fact' is {(result2_steps-result1_steps)/result2_steps}% faster in terms of steps than 'fact2'\")"
   ]
  },
  {
   "cell_type": "markdown",
   "metadata": {},
   "source": [
    "#### To better undestand the Big O Notation head over to the second jupyter notebook 2_Big_O_Notation!"
   ]
  },
  {
   "cell_type": "markdown",
   "metadata": {},
   "source": [
    "__References__:\n",
    "\n",
    "* [Udacity Lesson 1](https://classroom.udacity.com/courses/ud513/lessons)\n",
    "\n",
    "* [Big O Notation and Algorithm Analysis with Python Examples](https://stackabuse.com/big-o-notation-and-algorithm-analysis-with-python-examples/)"
   ]
  },
  {
   "cell_type": "code",
   "execution_count": null,
   "metadata": {},
   "outputs": [],
   "source": []
  }
 ],
 "metadata": {
  "kernelspec": {
   "display_name": "Python 3",
   "language": "python",
   "name": "python3"
  },
  "language_info": {
   "codemirror_mode": {
    "name": "ipython",
    "version": 3
   },
   "file_extension": ".py",
   "mimetype": "text/x-python",
   "name": "python",
   "nbconvert_exporter": "python",
   "pygments_lexer": "ipython3",
   "version": "3.8.5"
  }
 },
 "nbformat": 4,
 "nbformat_minor": 4
}
