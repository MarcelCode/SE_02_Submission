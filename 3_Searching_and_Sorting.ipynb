{
 "cells": [
  {
   "cell_type": "markdown",
   "metadata": {},
   "source": [
    "# 3. Searching and Sorting Algorithms\n",
    "by Marcel Siegmann, 2020"
   ]
  },
  {
   "cell_type": "markdown",
   "metadata": {},
   "source": [
    "TABLE OF CONTENTS\n",
    "\n",
    "\n",
    "* [Search Algorithms](#search)\n",
    "    * [Random Search](#random_search)\n",
    "    * [Linear Search](#linear_search)\n",
    "    * [Binary Search](#binary_search)\n",
    "    * [Comparisons](#compare)\n",
    "* [Sorting Algorithms](#sort)\n",
    "    * [Bubble Sort](#bubble_sort)\n",
    "    * [Selection Sort](#selection_sort)\n",
    "    * [Quick Sort](#quick_sort)\n",
    "* [References](#references)"
   ]
  },
  {
   "cell_type": "markdown",
   "metadata": {},
   "source": [
    "## Search Algorithms\n",
    "<div id=\"search\"></div>"
   ]
  },
  {
   "cell_type": "markdown",
   "metadata": {},
   "source": [
    "### Random Search\n",
    "<div id=\"random_search\"></div>"
   ]
  },
  {
   "cell_type": "code",
   "execution_count": 4,
   "metadata": {},
   "outputs": [
    {
     "data": {
      "text/plain": [
       "'banana'"
      ]
     },
     "execution_count": 4,
     "metadata": {},
     "output_type": "execute_result"
    }
   ],
   "source": [
    "import random\n",
    "\n",
    "def random_search(items, value):\n",
    "    while True:\n",
    "        random_element = random.choice(items)\n",
    "        if random_element == value:\n",
    "            return random_element\n",
    "\n",
    "items = ['orange', 'plum', 'banana', 'apple']\n",
    "random_search(items, \"banana\")"
   ]
  },
  {
   "cell_type": "markdown",
   "metadata": {},
   "source": [
    "### Linear Search\n",
    "<div id=\"linear_search\"></div>"
   ]
  },
  {
   "cell_type": "code",
   "execution_count": 6,
   "metadata": {},
   "outputs": [
    {
     "data": {
      "text/plain": [
       "(2, 'banana')"
      ]
     },
     "execution_count": 6,
     "metadata": {},
     "output_type": "execute_result"
    }
   ],
   "source": [
    "def linear_search(items, value):\n",
    "    for index, item in enumerate(items):\n",
    "        if item == value:\n",
    "            return index, value\n",
    "\n",
    "array = [1, 90, 15, 67, 19, 23, 25, 30]\n",
    "linear_search(array, \"banana\")"
   ]
  },
  {
   "cell_type": "markdown",
   "metadata": {},
   "source": [
    "### Binary Search\n",
    "<div id=\"binary_search\"></div>"
   ]
  },
  {
   "cell_type": "code",
   "execution_count": 9,
   "metadata": {},
   "outputs": [
    {
     "name": "stdout",
     "output_type": "stream",
     "text": [
      "Subarray in step 0: [1, 2, 5, 7, 13, 15, 16, 18, 24, 28, 29]\n",
      "Subarray in step 1: [16, 18, 24, 28, 29]\n",
      "Subarray in step 2: [28, 29]\n",
      "Subarray in step 3: [28]\n"
     ]
    },
    {
     "data": {
      "text/plain": [
       "9"
      ]
     },
     "execution_count": 9,
     "metadata": {},
     "output_type": "execute_result"
    }
   ],
   "source": [
    "def binary_search_iterative(array, element):\n",
    "    mid = 0\n",
    "    start = 0\n",
    "    end = len(array)\n",
    "    step = 0\n",
    "\n",
    "    while (start <= end):\n",
    "        print(\"Subarray in step {}: {}\".format(step, str(array[start:end+1])))\n",
    "        step = step+1\n",
    "        mid = (start + end) // 2\n",
    "\n",
    "        if element == array[mid]:\n",
    "            return mid\n",
    "\n",
    "        if element < array[mid]:\n",
    "            end = mid - 1\n",
    "        else:\n",
    "            start = mid + 1\n",
    "    return -1\n",
    "\n",
    "array = [1, 2, 5, 7, 13, 15, 16, 18, 24, 28, 29]\n",
    "binary_search_iterative(array, 28)"
   ]
  },
  {
   "cell_type": "code",
   "execution_count": 14,
   "metadata": {},
   "outputs": [],
   "source": [
    "def binary_search_recursive(array, element, start=0, end=None):\n",
    "    if not end:\n",
    "        end = len(array)\n",
    "    if start > end:\n",
    "        return -1\n",
    "\n",
    "    mid = (start + end) // 2\n",
    "    if element == array[mid]:\n",
    "        return mid\n",
    "\n",
    "    if element < array[mid]:\n",
    "        return binary_search_recursive(array, element, start, mid-1)\n",
    "    else:\n",
    "        return binary_search_recursive(array, element, mid+1, end)"
   ]
  },
  {
   "cell_type": "code",
   "execution_count": 15,
   "metadata": {},
   "outputs": [
    {
     "data": {
      "text/plain": [
       "9"
      ]
     },
     "execution_count": 15,
     "metadata": {},
     "output_type": "execute_result"
    }
   ],
   "source": [
    "array = [1, 2, 5, 7, 13, 15, 16, 18, 24, 28, 29]\n",
    "binary_search_recursive(array, 28)"
   ]
  },
  {
   "cell_type": "markdown",
   "metadata": {},
   "source": [
    "## Sorting Algorithms\n",
    "<div id=\"sort\"></div>"
   ]
  },
  {
   "cell_type": "markdown",
   "metadata": {},
   "source": [
    "### Bubble Sort\n",
    "<div id=\"bubble_sort\"></div>"
   ]
  },
  {
   "cell_type": "code",
   "execution_count": 41,
   "metadata": {},
   "outputs": [
    {
     "name": "stdout",
     "output_type": "stream",
     "text": [
      "swap index 0 with index 1\n",
      "[64, 34, 25, 12, 22, 11, 90]\n",
      "[34, 64, 25, 12, 22, 11, 90]\n",
      "\n",
      "\n",
      "swap index 1 with index 2\n",
      "[34, 64, 25, 12, 22, 11, 90]\n",
      "[34, 25, 64, 12, 22, 11, 90]\n",
      "\n",
      "\n",
      "swap index 2 with index 3\n",
      "[34, 25, 64, 12, 22, 11, 90]\n",
      "[34, 25, 12, 64, 22, 11, 90]\n",
      "\n",
      "\n",
      "swap index 3 with index 4\n",
      "[34, 25, 12, 64, 22, 11, 90]\n",
      "[34, 25, 12, 22, 64, 11, 90]\n",
      "\n",
      "\n",
      "swap index 4 with index 5\n",
      "[34, 25, 12, 22, 64, 11, 90]\n",
      "[34, 25, 12, 22, 11, 64, 90]\n",
      "\n",
      "\n",
      "next round\n",
      "swap index 0 with index 1\n",
      "[34, 25, 12, 22, 11, 64, 90]\n",
      "[25, 34, 12, 22, 11, 64, 90]\n",
      "\n",
      "\n",
      "swap index 1 with index 2\n",
      "[25, 34, 12, 22, 11, 64, 90]\n",
      "[25, 12, 34, 22, 11, 64, 90]\n",
      "\n",
      "\n",
      "swap index 2 with index 3\n",
      "[25, 12, 34, 22, 11, 64, 90]\n",
      "[25, 12, 22, 34, 11, 64, 90]\n",
      "\n",
      "\n",
      "swap index 3 with index 4\n",
      "[25, 12, 22, 34, 11, 64, 90]\n",
      "[25, 12, 22, 11, 34, 64, 90]\n",
      "\n",
      "\n",
      "next round\n",
      "swap index 0 with index 1\n",
      "[25, 12, 22, 11, 34, 64, 90]\n",
      "[12, 25, 22, 11, 34, 64, 90]\n",
      "\n",
      "\n",
      "swap index 1 with index 2\n",
      "[12, 25, 22, 11, 34, 64, 90]\n",
      "[12, 22, 25, 11, 34, 64, 90]\n",
      "\n",
      "\n",
      "swap index 2 with index 3\n",
      "[12, 22, 25, 11, 34, 64, 90]\n",
      "[12, 22, 11, 25, 34, 64, 90]\n",
      "\n",
      "\n",
      "next round\n",
      "swap index 1 with index 2\n",
      "[12, 22, 11, 25, 34, 64, 90]\n",
      "[12, 11, 22, 25, 34, 64, 90]\n",
      "\n",
      "\n",
      "next round\n",
      "swap index 0 with index 1\n",
      "[12, 11, 22, 25, 34, 64, 90]\n",
      "[11, 12, 22, 25, 34, 64, 90]\n",
      "\n",
      "\n",
      "next round\n",
      "next round\n",
      "[11, 12, 22, 25, 34, 64, 90]\n"
     ]
    }
   ],
   "source": [
    "def bubbleSort(arr): \n",
    "    n = len(arr) \n",
    "    for i in range(n-1):\n",
    "        for j in range(0, n-i-1): \n",
    "            if arr[j] > arr[j+1] : \n",
    "                print(\"swap index\", j, \"with index\", j+1)\n",
    "                print(arr)\n",
    "                arr[j], arr[j+1] = arr[j+1], arr[j] \n",
    "                print(arr)\n",
    "                print(\"\\n\")\n",
    "        print(\"next round\")\n",
    "    return arr\n",
    "  \n",
    "arr = [64, 34, 25, 12, 22, 11, 90] \n",
    "  \n",
    "print(bubbleSort(arr) )"
   ]
  },
  {
   "cell_type": "markdown",
   "metadata": {},
   "source": [
    "### Selection Sort\n",
    "<div id=\"selection_sort\"></div>"
   ]
  },
  {
   "cell_type": "code",
   "execution_count": 31,
   "metadata": {},
   "outputs": [
    {
     "name": "stdout",
     "output_type": "stream",
     "text": [
      "range(1, 7)\n",
      "unswapped [64, 34, 25, 12, 22, 11, 90]\n",
      "swap index 0 with index 5\n",
      "swapped [11, 34, 25, 12, 22, 64, 90] \n",
      "\n",
      "range(2, 7)\n",
      "unswapped [11, 34, 25, 12, 22, 64, 90]\n",
      "swap index 1 with index 3\n",
      "swapped [11, 12, 25, 34, 22, 64, 90] \n",
      "\n",
      "range(3, 7)\n",
      "unswapped [11, 12, 25, 34, 22, 64, 90]\n",
      "swap index 2 with index 4\n",
      "swapped [11, 12, 22, 34, 25, 64, 90] \n",
      "\n",
      "range(4, 7)\n",
      "unswapped [11, 12, 22, 34, 25, 64, 90]\n",
      "swap index 3 with index 4\n",
      "swapped [11, 12, 22, 25, 34, 64, 90] \n",
      "\n",
      "range(5, 7)\n",
      "unswapped [11, 12, 22, 25, 34, 64, 90]\n",
      "swap index 4 with index 4\n",
      "swapped [11, 12, 22, 25, 34, 64, 90] \n",
      "\n",
      "range(6, 7)\n",
      "unswapped [11, 12, 22, 25, 34, 64, 90]\n",
      "swap index 5 with index 5\n",
      "swapped [11, 12, 22, 25, 34, 64, 90] \n",
      "\n",
      "range(7, 7)\n",
      "unswapped [11, 12, 22, 25, 34, 64, 90]\n",
      "swap index 6 with index 6\n",
      "swapped [11, 12, 22, 25, 34, 64, 90] \n",
      "\n"
     ]
    },
    {
     "data": {
      "text/plain": [
       "[11, 12, 22, 25, 34, 64, 90]"
      ]
     },
     "execution_count": 31,
     "metadata": {},
     "output_type": "execute_result"
    }
   ],
   "source": [
    "def selection_sort(arr):\n",
    "    # Traverse through all array elements \n",
    "    for i in range(len(arr)): \n",
    "\n",
    "        # Find the minimum element in remaining unsorted array \n",
    "        min_idx = i \n",
    "        for j in range(i+1, len(arr)): \n",
    "            if arr[min_idx] > arr[j]: \n",
    "                min_idx = j \n",
    "                \n",
    "        print(range(i+1, len(arr)))\n",
    "\n",
    "        # Swap the found minimum element with the first element \n",
    "        print(\"unswapped\", arr)\n",
    "        print(\"swap index\", i, \"with index\", min_idx)\n",
    "        arr[i], arr[min_idx] = arr[min_idx], arr[i] \n",
    "        print(\"swapped\", arr, \"\\n\")\n",
    "    \n",
    "    return arr\n",
    "\n",
    "arr = [64, 34, 25, 12, 22, 11, 90] \n",
    "selection_sort(arr)"
   ]
  },
  {
   "cell_type": "markdown",
   "metadata": {},
   "source": [
    "### Quick Sort\n",
    "<div id=\"quick_sort\"></div>"
   ]
  },
  {
   "cell_type": "code",
   "execution_count": 42,
   "metadata": {},
   "outputs": [
    {
     "name": "stdout",
     "output_type": "stream",
     "text": [
      "[64, 34, 25, 12, 22, 11, 90]\n",
      "[34, 25, 12, 22, 11]\n",
      "[25, 12, 22, 11]\n",
      "[12, 22, 11]\n",
      "[11, 12, 22, 25, 34, 64, 90]\n"
     ]
    }
   ],
   "source": [
    "def quicksort(array):\n",
    "    \"\"\"Sort the array by using quicksort.\"\"\"\n",
    "\n",
    "    less = []\n",
    "    equal = []\n",
    "    greater = []\n",
    "\n",
    "    if len(array) > 1:\n",
    "        pivot = array[0]\n",
    "        for x in array:\n",
    "            if x < pivot:\n",
    "                less.append(x)\n",
    "            elif x == pivot:\n",
    "                equal.append(x)\n",
    "            elif x > pivot:\n",
    "                greater.append(x)\n",
    "        print(array)\n",
    "        return quicksort(less)+equal+quicksort(greater)\n",
    "    else:\n",
    "        return array\n",
    "    \n",
    "arr = [64, 34, 25, 12, 22, 11, 90] \n",
    "  \n",
    "print(quicksort(arr))"
   ]
  },
  {
   "cell_type": "markdown",
   "metadata": {},
   "source": [
    "https://realpython.com/binary-search-python/#linear-search\n",
    "\n",
    "https://stackabuse.com/binary-search-in-python/"
   ]
  }
 ],
 "metadata": {
  "kernelspec": {
   "display_name": "Python 3",
   "language": "python",
   "name": "python3"
  },
  "language_info": {
   "codemirror_mode": {
    "name": "ipython",
    "version": 3
   },
   "file_extension": ".py",
   "mimetype": "text/x-python",
   "name": "python",
   "nbconvert_exporter": "python",
   "pygments_lexer": "ipython3",
   "version": "3.6.12"
  }
 },
 "nbformat": 4,
 "nbformat_minor": 4
}
